{
  "nbformat": 4,
  "nbformat_minor": 0,
  "metadata": {
    "colab": {
      "private_outputs": true,
      "provenance": [],
      "authorship_tag": "ABX9TyN3zD3j0ezE7DupmP7sGKTE",
      "include_colab_link": true
    },
    "kernelspec": {
      "name": "python3",
      "display_name": "Python 3"
    },
    "language_info": {
      "name": "python"
    }
  },
  "cells": [
    {
      "cell_type": "markdown",
      "metadata": {
        "id": "view-in-github",
        "colab_type": "text"
      },
      "source": [
        "<a href=\"https://colab.research.google.com/github/Academic-Ayda-z/Pattern-recognition/blob/main/mini_project1.ipynb\" target=\"_parent\"><img src=\"https://colab.research.google.com/assets/colab-badge.svg\" alt=\"Open In Colab\"/></a>"
      ]
    },
    {
      "cell_type": "markdown",
      "source": [
        "Report link : https://docs.google.com/document/d/1jJWKCISRhzLsQ-XxsMhHkQ9dMyXmu4_G-6tzw5BQp-o/edit?usp=sharing\n"
      ],
      "metadata": {
        "id": "oh0q5CgD0KPU"
      }
    },
    {
      "cell_type": "code",
      "source": [
        "from google.colab import drive\n",
        "drive.mount('/content/drive')"
      ],
      "metadata": {
        "id": "0ut4CW47hOYn"
      },
      "execution_count": null,
      "outputs": []
    },
    {
      "cell_type": "code",
      "source": [
        "%ls \"/content/drive/My Drive/pattern_1semester\""
      ],
      "metadata": {
        "id": "480s-iP9hZqT"
      },
      "execution_count": null,
      "outputs": []
    },
    {
      "cell_type": "code",
      "execution_count": null,
      "metadata": {
        "id": "UW_QeTpwnpSY"
      },
      "outputs": [],
      "source": [
        "from matplotlib.image import imread\n",
        "import numpy as np\n",
        "\n",
        "# Load the images\n",
        "path=\"/content/drive/My Drive/pattern_1semester/\"\n",
        "t1 = imread(path+'t1.jpg')\n",
        "t2 = imread(path+'t2.jpg')\n",
        "pd = imread(path+'pd.jpg')\n",
        "\n",
        "# Stack the images along the third dimension\n",
        "x = np.stack((t1, t2, pd), axis=-1)\n"
      ]
    },
    {
      "cell_type": "markdown",
      "source": [
        "https://levelup.gitconnected.com/classification-using-gaussian-naive-bayes-from-scratch-6b8ebe830266\n"
      ],
      "metadata": {
        "id": "d3lpnQmmZZuV"
      }
    },
    {
      "cell_type": "code",
      "source": [
        "from matplotlib.pyplot import imshow\n",
        "\n",
        "# Display the images\n",
        "imshow(x)\n",
        "# Manually select pixels here\n",
        "\n"
      ],
      "metadata": {
        "id": "x_6SWlgfny4v"
      },
      "execution_count": null,
      "outputs": []
    },
    {
      "cell_type": "code",
      "source": [],
      "metadata": {
        "id": "ibaSBvgx0Fw1"
      },
      "execution_count": null,
      "outputs": []
    },
    {
      "cell_type": "code",
      "source": [
        "w1=\"10,11,12;11,12,12;12,12,11;10,12,12;11,14,12;4,14,9;11,11,12;11,8,11;10,12,10;11,12,12;10,13,11;9,12,12;11,12,11;13,12,11;11,12,11;11,12,12;2,15,17;11,11,12;12,9,4;9,11,8;15,7,8;8,15,12;12,12,9;11,11,12;14,11,12;10,12,12;10,12,12;10,12,11;19,10,14;10,12,11\"\n",
        "\n",
        "w2=\"202,30,132;206,58,127;216,59,110;181,100,75;195,82,26;214,52,89;231,22,115;229,36,70;222,34,137;227,53,103;86,52,187;203,102,221;224,75,198;206,115,195;219,172,220;218,166,214;221,76,158;237,124,178;222,183,213;226,161,197;169,126,189;223,108,114;212,149,167;198,129,156;213,84,116;176,121,174;203,111,169;191,125,180;221,82,167;217,32,95\"\n",
        "\n",
        "w3=\"139,231,214;137,229,208;105,230,207;104,234,204;107,223,209;95,207,224;101,226,215;112,225,206;118,222,193;138,220,198;105,231,208;111,229,208;132,233,205;108,228,204;8,222,205;103,78,91;116,206,222;127,228,206;99,223,210;110,233,208;113,228,207;107,227,208;108,231,207;106,218,202;123,225,219;125,202,201;107,224,209;123,225,219;113,228,207;103,219,196\"\n",
        "\n",
        "w4=\"134,163,179;142,146,171;132,118,166;138,126,154;92,216,162;141,212,166;179,154,176;160,183,178;174,147,170;151,138,182;163,136,166;190,141,172;74,178,185;151,170,184;12,213,157;165,136,163;162,120,154;158,135,157;101,195,174;132,185,183;140,132,162;120,165,168;149,113,160;152,110,159;109,170,178;177,143,170;169,141,172;149,167,182;153,178,170;107,172,170\""
      ],
      "metadata": {
        "id": "rY-qfVKdguIX"
      },
      "execution_count": null,
      "outputs": []
    },
    {
      "cell_type": "code",
      "source": [
        "W=[w1,w2,w3,w4]\n",
        "W_final=[]\n",
        "for w in W:\n",
        "  temp=[]\n",
        "  ww=w.split(';')\n",
        "  for pixel in ww:\n",
        "    temp.append([int(i) for i in pixel.split(',')])\n",
        "\n",
        "  W_final.append(temp)"
      ],
      "metadata": {
        "id": "w0FMXArAiHGa"
      },
      "execution_count": null,
      "outputs": []
    },
    {
      "cell_type": "code",
      "source": [
        "from mpl_toolkits.mplot3d import Axes3D\n",
        "import matplotlib.pyplot as plt\n",
        "W=W_final\n",
        "# Create a 3D plot\n",
        "fig = plt.figure()\n",
        "ax = fig.add_subplot(111, projection='3d')\n",
        "color=['yellow','blue','red','green']\n",
        "for i in range(4):\n",
        "  for j in range(30):\n",
        "    ax.scatter(*W[i][j],c=color[i])\n",
        "\n",
        "plt.show()\n"
      ],
      "metadata": {
        "id": "vbA-AZU4ouEY"
      },
      "execution_count": null,
      "outputs": []
    },
    {
      "cell_type": "markdown",
      "source": [
        "2"
      ],
      "metadata": {
        "id": "ONFMg0cgoEO3"
      }
    },
    {
      "cell_type": "code",
      "source": [
        "means=[]\n",
        "covs=[]\n",
        "vars=[]\n",
        "for i in range(4):\n",
        "  mean = np.mean(W[i], axis=0)\n",
        "  cov = np.cov(W[i], rowvar=False)\n",
        "  var=np.var(W[i],axis=0)\n",
        "  means.append(mean)\n",
        "  covs.append(cov)\n",
        "  vars.append(var)\n"
      ],
      "metadata": {
        "id": "Z6UW0c6wlCpC"
      },
      "execution_count": null,
      "outputs": []
    },
    {
      "cell_type": "code",
      "source": [
        "means"
      ],
      "metadata": {
        "id": "Iw5ZZbiSoc9V"
      },
      "execution_count": null,
      "outputs": []
    },
    {
      "cell_type": "code",
      "source": [
        "vars"
      ],
      "metadata": {
        "id": "12bq8AxToiVg"
      },
      "execution_count": null,
      "outputs": []
    },
    {
      "cell_type": "code",
      "source": [
        "covs"
      ],
      "metadata": {
        "id": "pEqhVp85ogrn"
      },
      "execution_count": null,
      "outputs": []
    },
    {
      "cell_type": "code",
      "source": [
        "def gaussian_probability(x,mu, sigma2):\n",
        "  sigma2=np.square(sigma2)\n",
        "  a = (1/np.sqrt(2*(np.pi)*sigma2))\n",
        "  b = np.exp(-np.square(x-mu)/(2*sigma2))\n",
        "  return a*b"
      ],
      "metadata": {
        "id": "0yrrmYRSli4_"
      },
      "execution_count": null,
      "outputs": []
    },
    {
      "cell_type": "code",
      "source": [
        "for j in range(4):\n",
        "  for i in range(4):\n",
        "    print(\"X belongs to w\"+str(j)+\"- p(x) in w\"+str(i)+\"th\",gaussian_probability(W[j][0],means[i],vars[i]))\n",
        "\n"
      ],
      "metadata": {
        "id": "jT3X-wCKoCxW"
      },
      "execution_count": null,
      "outputs": []
    },
    {
      "cell_type": "markdown",
      "source": [
        "3"
      ],
      "metadata": {
        "id": "i-XEt0aroFsk"
      }
    },
    {
      "cell_type": "code",
      "source": [
        "# importing two required module\n",
        "import numpy as np\n",
        "import matplotlib.pyplot as plt\n",
        "import random\n",
        "# Creating a numpy array\n",
        "X = np.array([random.randint(1,100) for i in range(100)])\n",
        "Y = np.array([random.randint(1,100) for i in range(100)])\n",
        "\n",
        "# Plotting point using sactter method\n",
        "plt.scatter(X,Y,c='yellow')\n",
        "segmented = imread(path+'segmented.jpg')\n",
        "plt.imshow(segmented)\n",
        "plt.show()\n"
      ],
      "metadata": {
        "id": "kQDsLnHnxV6m"
      },
      "execution_count": null,
      "outputs": []
    },
    {
      "cell_type": "code",
      "source": [
        "counts=[31,11,55,3]\n",
        "PW=[]\n",
        "for i in range(4):\n",
        "  PW.append(counts[i]/100)\n",
        "  print('probability of w'+str(i)+':',counts[i]/100)"
      ],
      "metadata": {
        "id": "C8OTqVj_xWAP"
      },
      "execution_count": null,
      "outputs": []
    },
    {
      "cell_type": "markdown",
      "source": [
        "4"
      ],
      "metadata": {
        "id": "EMEdhVWC2dve"
      }
    },
    {
      "cell_type": "code",
      "source": [
        "import numpy as np\n",
        "import math\n",
        "import scipy.sparse as sp\n",
        "import scipy.sparse.linalg as spln\n",
        "\n",
        "def pdf(x,mu,S):\n",
        "    \"\"\" Calculate gaussian probability density of x, when x ~ N(mu,sigma) \"\"\"\n",
        "    nx = len(S)\n",
        "    norm_coeff = nx*math.log(2*math.pi)+np.linalg.slogdet(S)[1]\n",
        "\n",
        "    err = x-mu\n",
        "    if (sp.issparse(S)):\n",
        "        numerator = spln.spsolve(S, err).T.dot(err)\n",
        "    else:\n",
        "        numerator = np.linalg.solve(S, err).T.dot(err)\n",
        "\n",
        "    return np.exp(-1/2*numerator)*1/norm_coeff\n",
        "#pdf(W[0][0],means[3],covs[3])"
      ],
      "metadata": {
        "id": "KoHG1sQv-ifO"
      },
      "execution_count": null,
      "outputs": []
    },
    {
      "cell_type": "code",
      "source": [
        "def segmentation(X,mus,covs):\n",
        "  ps=[] # probabilities\n",
        "  for i in range(4):\n",
        "    ps.append(pdf(X,mus[i],covs[i]))\n",
        "  return ps.index(max(ps)) # gives us the class"
      ],
      "metadata": {
        "id": "45uWLvmCAYSs"
      },
      "execution_count": null,
      "outputs": []
    },
    {
      "cell_type": "code",
      "source": [
        "segmentation(W[1][0],means,covs)"
      ],
      "metadata": {
        "id": "4sQiTUv8A_dG"
      },
      "execution_count": null,
      "outputs": []
    },
    {
      "cell_type": "code",
      "source": [
        "colors=['black','#030303','#1C1C1C','white']\n",
        "classes=[[],[],[],[]]\n",
        "x = np.stack((t1, t2, pd), axis=-1)\n",
        "for i in range(100):\n",
        "  for j in range(100):\n",
        "    seg=segmentation(x[i][j],means,covs)\n",
        "    classes[seg].append([i,j])\n",
        "for i in range(4):\n",
        "  plt.scatter([j[1] for j in classes[i]],[-j[0] for j in classes[i]],c=colors[i],s=8)\n",
        "plt.show()"
      ],
      "metadata": {
        "id": "6KfNEgXSCXD-"
      },
      "execution_count": null,
      "outputs": []
    },
    {
      "cell_type": "markdown",
      "source": [
        "5"
      ],
      "metadata": {
        "id": "hTzbF-Q8pe5M"
      }
    },
    {
      "cell_type": "code",
      "source": [
        "def error(X,mus,covs,wi):\n",
        "  ps=[]\n",
        "  for i in range(4):\n",
        "    if i!=wi:\n",
        "      ps.append(pdf(X,mus[i],covs[i]))\n",
        "  return ps.index(1-sum(ps))"
      ],
      "metadata": {
        "id": "-LLQmqeN4ojH"
      },
      "execution_count": null,
      "outputs": []
    },
    {
      "cell_type": "code",
      "source": [
        "import numpy as np\n",
        "import matplotlib.pyplot as plt\n",
        "import random\n",
        "# Creating a numpy array\n",
        "X = np.array([random.randint(0,99) for i in range(100)])\n",
        "Y = np.array([random.randint(0,99) for i in range(100)])\n",
        "counts=[0,0,0,0]\n",
        "# Plotting point using sactter method\n",
        "plt.scatter(X,Y,c='yellow')\n",
        "for i in range(100):\n",
        "  pred_class=segmentation(x[X[i]][Y[i]],means,covs)\n",
        "  counts[pred_class]+=1\n",
        "  plt.text(X[i],Y[i], str(pred_class),color='purple',fontsize=12)\n",
        "#segmented = imread(path+'segmented.jpg')\n",
        "#plt.imshow(segmented)\n",
        "plt.imshow(x)\n",
        "plt.show()\n"
      ],
      "metadata": {
        "id": "nuspOXoMr0Xd"
      },
      "execution_count": null,
      "outputs": []
    },
    {
      "cell_type": "code",
      "source": [
        "counts"
      ],
      "metadata": {
        "id": "38o5mAOWwESz"
      },
      "execution_count": null,
      "outputs": []
    },
    {
      "cell_type": "markdown",
      "source": [
        "7"
      ],
      "metadata": {
        "id": "UY4OwGvP9-ch"
      }
    },
    {
      "cell_type": "code",
      "source": [
        "import random\n",
        "W2=[]\n",
        "for i in range(4):\n",
        "  if i!=3:\n",
        "    W2.extend(W[i])\n",
        "#now 30 pixcels are being chosen for w2\n",
        "random.shuffle(W2)\n",
        "W2=W2[:30]\n"
      ],
      "metadata": {
        "id": "nv54XS0b99lo"
      },
      "execution_count": null,
      "outputs": []
    },
    {
      "cell_type": "code",
      "source": [
        "#class 1\n",
        "means2=[]\n",
        "covs2=[]\n",
        "mean = np.mean(W[3], axis=0)\n",
        "cov = np.cov(W[3], rowvar=False)\n",
        "means2.append(mean)\n",
        "covs2.append(cov)\n",
        "#class 2\n",
        "mean = np.mean(W2, axis=0)\n",
        "cov = np.cov(W2, rowvar=False)\n",
        "means2.append(mean)\n",
        "covs2.append(cov)"
      ],
      "metadata": {
        "id": "OpWy25P7Gsg1"
      },
      "execution_count": null,
      "outputs": []
    },
    {
      "cell_type": "code",
      "source": [
        "def segmentation2(X,mus,vars):\n",
        "  ps=[] # probabilities\n",
        "  for i in range(2):\n",
        "    ps.append(pdf(X,mus[i],vars[i]))\n",
        "  return ps.index(max(ps)) # gives us the class\n"
      ],
      "metadata": {
        "id": "JmyZugXwLR9Q"
      },
      "execution_count": null,
      "outputs": []
    },
    {
      "cell_type": "code",
      "source": [
        "colors=['black','white']\n",
        "classes=[[],[]]\n",
        "x = np.stack((t1, t2, pd), axis=-1)\n",
        "for i in range(100):\n",
        "  for j in range(100):\n",
        "    seg=segmentation2(x[i][j],means2,covs2)\n",
        "    classes[seg].append([i,j])\n",
        "\n",
        "for i in range(2):\n",
        "  plt.scatter([j[1] for j in classes[i]],[-j[0] for j in classes[i]],c=colors[i],s=3)\n"
      ],
      "metadata": {
        "id": "9mfqTIeEGhsJ"
      },
      "execution_count": null,
      "outputs": []
    },
    {
      "cell_type": "code",
      "source": [
        "import numpy as np\n",
        "import matplotlib.pyplot as plt\n",
        "import random\n",
        "# Creating a numpy array\n",
        "X = np.array([random.randint(0,99) for i in range(100)])\n",
        "Y = np.array([random.randint(0,99) for i in range(100)])\n",
        "counts=[0,0,0,0]\n",
        "# Plotting point using sactter method\n",
        "plt.scatter(X,Y,c='yellow')\n",
        "for i in range(100):\n",
        "  pred_class=segmentation2(x[X[i]][Y[i]],means2,covs2)\n",
        "  counts[pred_class]+=1\n",
        "  plt.text(X[i],Y[i], str(pred_class),color='purple',fontsize=12)\n",
        "#segmented = imread(path+'segmented.jpg')\n",
        "#plt.imshow(segmented)\n",
        "plt.imshow(segmented)\n",
        "plt.show()\n"
      ],
      "metadata": {
        "id": "zLGSqz26EFFe"
      },
      "execution_count": null,
      "outputs": []
    },
    {
      "cell_type": "code",
      "source": [
        "counts"
      ],
      "metadata": {
        "id": "0lAHXgUdER4T"
      },
      "execution_count": null,
      "outputs": []
    }
  ]
}